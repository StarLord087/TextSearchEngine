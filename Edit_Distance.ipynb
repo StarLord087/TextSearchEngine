{
 "cells": [
  {
   "cell_type": "code",
   "execution_count": 1,
   "metadata": {},
   "outputs": [],
   "source": [
    "import numpy as np\n",
    "import nltk\n",
    "import os\n",
    "import string \n",
    "from tqdm import tqdm\n",
    "import math\n",
    "import heapq\n",
    "from itertools import islice \n",
    "import re"
   ]
  },
  {
   "cell_type": "code",
   "execution_count": 2,
   "metadata": {},
   "outputs": [],
   "source": [
    "my_dir = 'C:\\\\Users\\\\shekh\\\\Desktop\\\\Shekhar\\\\IR\\\\Assignment 2'\n",
    "files = []\n",
    "doc = []\n",
    "for file in os.listdir(my_dir):\n",
    "    if os.path.isfile(file):\n",
    "        files.append(file)\n",
    "\n",
    "for file in files: \n",
    "    if file == \"english2.txt\":\n",
    "        f = open(my_dir+'\\\\'+file, 'r')\n",
    "        text = f.readlines()\n",
    "        for line in text:\n",
    "            doc.append(line.strip())\n"
   ]
  },
  {
   "cell_type": "code",
   "execution_count": 3,
   "metadata": {},
   "outputs": [],
   "source": [
    "def listtodict(keys, values):\n",
    "    keys = keys.copy()\n",
    "    values = values.copy()\n",
    "    dic = {}\n",
    "    for key in range(len(keys)): \n",
    "        for value in values: \n",
    "            dic[key] = value\n",
    "            values.remove(value)\n",
    "            break  \n",
    "    return dic"
   ]
  },
  {
   "cell_type": "code",
   "execution_count": 4,
   "metadata": {},
   "outputs": [],
   "source": [
    "def edit_distance(str1, str2):\n",
    "    str1 = str1.rjust(len(str1)+1)\n",
    "    str2 = str2.rjust(len(str2)+1)\n",
    "    \n",
    "    m = len(str1)\n",
    "    n = len(str2)\n",
    "    \n",
    "    dp = np.zeros((n,m))\n",
    "    \n",
    "    if n == 1:\n",
    "        return m\n",
    "    elif m == 1:\n",
    "        return n\n",
    "    \n",
    "    for i in range(n):\n",
    "        for j in range(1, m):\n",
    "            if i == 0:\n",
    "                dp[i][j] = dp[i][j-1]+1\n",
    "    \n",
    "    for i in range(1, n):\n",
    "        dp[i][0] = dp[i-1][0]+2     \n",
    "    \n",
    "    for i in range(1,n):\n",
    "        for j in range(1, m):\n",
    "            if str1[j] == str2[i]:\n",
    "                dp[i][j] = dp[i-1][j-1]\n",
    "            else:\n",
    "                dp[i][j] = min(dp[i-1][j-1] +3 , dp[i][j-1] +1 ,dp[i-1][j] +2)\n",
    "    \n",
    "    \n",
    "    return dp[n-1][m-1]"
   ]
  },
  {
   "cell_type": "code",
   "execution_count": 5,
   "metadata": {},
   "outputs": [],
   "source": [
    "idtoname = listtodict(doc, doc)"
   ]
  },
  {
   "cell_type": "code",
   "execution_count": 6,
   "metadata": {},
   "outputs": [],
   "source": [
    "#print(idtoname)"
   ]
  },
  {
   "cell_type": "code",
   "execution_count": 7,
   "metadata": {},
   "outputs": [],
   "source": [
    "#edit_distance(\"enquired\", \"quired\")"
   ]
  },
  {
   "cell_type": "code",
   "execution_count": 8,
   "metadata": {},
   "outputs": [],
   "source": [
    "#print(\"it\" in doc)"
   ]
  },
  {
   "cell_type": "code",
   "execution_count": 21,
   "metadata": {},
   "outputs": [
    {
     "name": "stdout",
     "output_type": "stream",
     "text": [
      "Enter a sentence:poreds\n",
      "Enter value of K5\n",
      "['poreds']\n"
     ]
    }
   ],
   "source": [
    "word = input(\"Enter a sentence:\")\n",
    "k = int(input(\"Enter value of K\"))\n",
    "\n",
    "lower = word.lower()\n",
    "punc = lower.translate(str.maketrans('','',string.punctuation))\n",
    "split = punc.split()\n",
    "\n",
    "print(split)"
   ]
  },
  {
   "cell_type": "code",
   "execution_count": 22,
   "metadata": {},
   "outputs": [
    {
     "name": "stderr",
     "output_type": "stream",
     "text": [
      "100%|████████████████████████████████████████████████████████████████████████████████████| 1/1 [00:07<00:00,  7.98s/it]\n"
     ]
    }
   ],
   "source": [
    "edit = []\n",
    "index = []\n",
    "text = []\n",
    "for j in tqdm(split):\n",
    "    if j not in doc:\n",
    "        index.append(split.index(j))\n",
    "        edit1 = []\n",
    "        for i in doc:\n",
    "            edit1.append((edit_distance(i,j),i))\n",
    "            \n",
    "        edit.append(edit1)"
   ]
  },
  {
   "cell_type": "code",
   "execution_count": 11,
   "metadata": {},
   "outputs": [],
   "source": [
    "#print(edit)"
   ]
  },
  {
   "cell_type": "code",
   "execution_count": 23,
   "metadata": {},
   "outputs": [],
   "source": [
    "for i in edit:\n",
    "    i.sort()"
   ]
  },
  {
   "cell_type": "code",
   "execution_count": 24,
   "metadata": {},
   "outputs": [],
   "source": [
    "#print(edit)"
   ]
  },
  {
   "cell_type": "code",
   "execution_count": 25,
   "metadata": {},
   "outputs": [],
   "source": [
    "#print(index)"
   ]
  },
  {
   "cell_type": "code",
   "execution_count": 26,
   "metadata": {},
   "outputs": [],
   "source": [
    "#print(edit[1])"
   ]
  },
  {
   "cell_type": "code",
   "execution_count": 27,
   "metadata": {},
   "outputs": [
    {
     "name": "stdout",
     "output_type": "stream",
     "text": [
      "poreds : , did you mean [(2.0, 'pored'), (2.0, 'pores'), (3.0, 'ported'), (3.0, 'poured'), (3.0, 'spores')]\n"
     ]
    }
   ],
   "source": [
    "for i in range(len(index)):\n",
    "    print(split[index[i]],\": , did you mean\", list(islice(edit[i], 0, k)))"
   ]
  }
 ],
 "metadata": {
  "kernelspec": {
   "display_name": "Python 3",
   "language": "python",
   "name": "python3"
  },
  "language_info": {
   "codemirror_mode": {
    "name": "ipython",
    "version": 3
   },
   "file_extension": ".py",
   "mimetype": "text/x-python",
   "name": "python",
   "nbconvert_exporter": "python",
   "pygments_lexer": "ipython3",
   "version": "3.6.5"
  }
 },
 "nbformat": 4,
 "nbformat_minor": 2
}
